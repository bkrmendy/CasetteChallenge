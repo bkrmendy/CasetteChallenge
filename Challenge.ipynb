{
 "cells": [
  {
   "cell_type": "code",
   "execution_count": 357,
   "metadata": {},
   "outputs": [],
   "source": [
    "def get_input():\n",
    "    with open(\"input.txt\") as infile:\n",
    "        lines = infile.readlines()\n",
    "        result = []\n",
    "        for line in lines:    \n",
    "            result.append(list(map(int, line.split(\",\"))))\n",
    "        return result"
   ]
  },
  {
   "cell_type": "code",
   "execution_count": 358,
   "metadata": {},
   "outputs": [],
   "source": [
    "lines = get_input()"
   ]
  },
  {
   "cell_type": "code",
   "execution_count": 359,
   "metadata": {},
   "outputs": [],
   "source": [
    "from scipy import fft, fftpack\n",
    "import numpy as np\n",
    "\n",
    "# https://dsp.stackexchange.com/questions/22923/dominating-frequency-in-a-clear-50-hz-signal/22924\n",
    "def to_freq(line):\n",
    "    fourier = fft(line)\n",
    "    frequencies = fftpack.fftfreq(len(line), 1 / 250)\n",
    "    positive_frequencies = frequencies[np.where(frequencies > 0)]  \n",
    "    magnitudes = abs(fourier[np.where(frequencies > 0)]) \n",
    "    peak = np.argmax(magnitudes)\n",
    "    return peak"
   ]
  },
  {
   "cell_type": "code",
   "execution_count": 360,
   "metadata": {},
   "outputs": [],
   "source": [
    "def partition(value):\n",
    "    if value == 3:\n",
    "        return 0\n",
    "    if value == 7:\n",
    "        return 1\n",
    "    if value == 11:\n",
    "        return 2\n",
    "    raise ValueError(\"Unknown value!\")"
   ]
  },
  {
   "cell_type": "code",
   "execution_count": 361,
   "metadata": {},
   "outputs": [],
   "source": [
    "def from_trinary(digits):\n",
    "    assert len(digits) == 8\n",
    "    assert digits[0] == 0\n",
    "    assert digits[6] == 1\n",
    "    assert digits[7] == 2\n",
    "    return chr(int(\"\".join(map(str, digits[1:6])), 3))"
   ]
  },
  {
   "cell_type": "code",
   "execution_count": 362,
   "metadata": {},
   "outputs": [],
   "source": [
    "freqs = map(to_freq, lines)\n",
    "values = list(map(partition, freqs))\n",
    "letters = []\n",
    "for i in range(0, len(values) // 8):\n",
    "    encoded_ascii = values[(8*i):8*(i+1)]\n",
    "    letters.append(from_trinary(encoded_ascii))"
   ]
  },
  {
   "cell_type": "code",
   "execution_count": 363,
   "metadata": {},
   "outputs": [
    {
     "name": "stdout",
     "output_type": "stream",
     "text": [
      "Twas the night before Christmas, when all through the house\n",
      "Not a creature was stirring, not even a mouse...\n",
      "     \n",
      "Happy new year to all advent of coders!\n",
      "\n"
     ]
    }
   ],
   "source": [
    "# 🎄\n",
    "print(\"\".join(letters))"
   ]
  },
  {
   "cell_type": "code",
   "execution_count": null,
   "metadata": {},
   "outputs": [],
   "source": []
  }
 ],
 "metadata": {
  "kernelspec": {
   "display_name": "Python 3",
   "language": "python",
   "name": "python3"
  },
  "language_info": {
   "codemirror_mode": {
    "name": "ipython",
    "version": 3
   },
   "file_extension": ".py",
   "mimetype": "text/x-python",
   "name": "python",
   "nbconvert_exporter": "python",
   "pygments_lexer": "ipython3",
   "version": "3.7.4"
  }
 },
 "nbformat": 4,
 "nbformat_minor": 2
}
